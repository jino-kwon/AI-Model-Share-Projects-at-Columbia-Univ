{
 "cells": [
  {
   "cell_type": "markdown",
   "metadata": {},
   "source": [
    "# Project 1: Predict country level happiness \n",
    "\n",
    "Find the best model to predict a country's happiness ranking using various social variables (including those measuring perceptions of corruption, GDP, maintaining a healthy lifestyle, or social support, etc.).\n",
    "By running both DL and ML models, I could compare which ones showed stronger performance for this given task.\n",
    "\n",
    "**Data**: 2019 World Happiness Survey Rankings + ISO 3166 Country Codes\n",
    "**Model** : Convolutional neural network models using Keras + Machine Learning models\n",
    "**Notebook** : https://github.com/jinokwon/AI-Model-Share-Projects-at-Columbia-Univ/blob/master/Project1/ML_DL_Project_1_Predicting_Happiness.ipynb\n",
    "\n",
    "----\n",
    "# Project 2: Predict brain tumor\n",
    "\n",
    "Find the best model to predict brain tumor using MRI image data.\n",
    "I preprocessed (one-hot-encoded) image data and conducted object detection with deep learning models.\n",
    "\n",
    "**Data**: 253 diagnositic brain MRI images\n",
    "**Model**: Recurrent Neural Network models with Keras (w/ different numbers of hidden layers, epochs, and 2D Max Pooling, etc.)\n",
    "**Notedbook** : https://github.com/jinokwon/AI-Model-Share-Projects-at-Columbia-Univ/blob/master/Project2/ML_DL_Project_2_Predicting_Brain_Tumor_pynb.ipynb\n",
    "\n",
    "---\n",
    "# Project 3: Classify BBC news categories\n",
    "\n",
    "Find the best model to predict the category of a given news article with based on a short text from that article.\n",
    "I ran various RNN (i.e., LSTM) models to conduct text classification.\n",
    "\n",
    "**Data**: 2225 BBC News articles\n",
    "**Model**: model: Neural network models with Keras\n",
    "* 1) A model with an embedding layer and dense layers (but w/ no layers meant for sequential data)\n",
    "* 2) A model using an Embedding layer with Conv1d Layers\n",
    "* 3) A model using an Embedding layer with one sequential layer (LSTM or GRU)\n",
    "* 4) A model using an Embedding layer with stacked sequential layers (LSTM or GRU)\n",
    "* 5) A model using an Embedding layer with bidirectional sequential layers\n",
    "**Notebook**: https://github.com/jinokwon/AI-Model-Share-Projects-at-Columbia-Univ/blob/master/Project3/ML_DL_Project_3_Classifying_BBC_News_Categories.ipynb"
   ]
  }
 ],
 "metadata": {
  "kernelspec": {
   "display_name": "Python 3",
   "language": "python",
   "name": "python3"
  },
  "language_info": {
   "codemirror_mode": {
    "name": "ipython",
    "version": 3
   },
   "file_extension": ".py",
   "mimetype": "text/x-python",
   "name": "python",
   "nbconvert_exporter": "python",
   "pygments_lexer": "ipython3",
   "version": "3.7.4"
  }
 },
 "nbformat": 4,
 "nbformat_minor": 4
}
