{
 "cells": [
  {
   "cell_type": "markdown",
   "metadata": {
    "colab_type": "text",
    "id": "ftx3zZt8OHvd"
   },
   "source": [
    "# Objective: Classify BBC News Categories\n",
    "* https://github.com/jinokwon/AI-Model-Share-Competition-at-Columbia/blob/master/ML_DL_Project_3_Classifying_BBC_News_Categories.ipynb\n",
    "* the data includes news articles from the BBC news.\n",
    "\n",
    "\n"
   ]
  },
  {
   "cell_type": "code",
   "execution_count": 0,
   "metadata": {
    "colab": {
     "base_uri": "https://localhost:8080/",
     "height": 35
    },
    "colab_type": "code",
    "executionInfo": {
     "elapsed": 227,
     "status": "ok",
     "timestamp": 1589248643493,
     "user": {
      "displayName": "Jino Kwon",
      "photoUrl": "https://lh3.googleusercontent.com/a-/AOh14GgV2Ncm3h1lWr3fmLm-2axiON25ZmFCeivTDWQB=s64",
      "userId": "03464591678848794865"
     },
     "user_tz": 240
    },
    "id": "YoqSwgStNzT4",
    "outputId": "18ddc555-a3ee-418e-e1db-4b65d4462205"
   },
   "outputs": [
    {
     "data": {
      "text/plain": [
       "(2225, 2)"
      ]
     },
     "execution_count": 7,
     "metadata": {
      "tags": []
     },
     "output_type": "execute_result"
    }
   ],
   "source": [
    "import pandas as pd\n",
    "import numpy as np\n",
    "df = pd.read_csv(\"https://storage.googleapis.com/dataset-uploader/bbc/bbc-text.csv\")\n",
    "df.shape"
   ]
  },
  {
   "cell_type": "code",
   "execution_count": 0,
   "metadata": {
    "colab": {
     "base_uri": "https://localhost:8080/",
     "height": 348
    },
    "colab_type": "code",
    "executionInfo": {
     "elapsed": 135,
     "status": "ok",
     "timestamp": 1589248643742,
     "user": {
      "displayName": "Jino Kwon",
      "photoUrl": "https://lh3.googleusercontent.com/a-/AOh14GgV2Ncm3h1lWr3fmLm-2axiON25ZmFCeivTDWQB=s64",
      "userId": "03464591678848794865"
     },
     "user_tz": 240
    },
    "id": "7WhyEvOQmTEA",
    "outputId": "2de0ce87-1a5b-483c-a2a6-d3cfeb366ea8"
   },
   "outputs": [
    {
     "data": {
      "text/html": [
       "<div>\n",
       "<style scoped>\n",
       "    .dataframe tbody tr th:only-of-type {\n",
       "        vertical-align: middle;\n",
       "    }\n",
       "\n",
       "    .dataframe tbody tr th {\n",
       "        vertical-align: top;\n",
       "    }\n",
       "\n",
       "    .dataframe thead th {\n",
       "        text-align: right;\n",
       "    }\n",
       "</style>\n",
       "<table border=\"1\" class=\"dataframe\">\n",
       "  <thead>\n",
       "    <tr style=\"text-align: right;\">\n",
       "      <th></th>\n",
       "      <th>category</th>\n",
       "      <th>text</th>\n",
       "    </tr>\n",
       "  </thead>\n",
       "  <tbody>\n",
       "    <tr>\n",
       "      <th>0</th>\n",
       "      <td>tech</td>\n",
       "      <td>tv future in the hands of viewers with home th...</td>\n",
       "    </tr>\n",
       "    <tr>\n",
       "      <th>1</th>\n",
       "      <td>business</td>\n",
       "      <td>worldcom boss  left books alone  former worldc...</td>\n",
       "    </tr>\n",
       "    <tr>\n",
       "      <th>2</th>\n",
       "      <td>sport</td>\n",
       "      <td>tigers wary of farrell  gamble  leicester say ...</td>\n",
       "    </tr>\n",
       "    <tr>\n",
       "      <th>3</th>\n",
       "      <td>sport</td>\n",
       "      <td>yeading face newcastle in fa cup premiership s...</td>\n",
       "    </tr>\n",
       "    <tr>\n",
       "      <th>4</th>\n",
       "      <td>entertainment</td>\n",
       "      <td>ocean s twelve raids box office ocean s twelve...</td>\n",
       "    </tr>\n",
       "    <tr>\n",
       "      <th>5</th>\n",
       "      <td>politics</td>\n",
       "      <td>howard hits back at mongrel jibe michael howar...</td>\n",
       "    </tr>\n",
       "    <tr>\n",
       "      <th>6</th>\n",
       "      <td>politics</td>\n",
       "      <td>blair prepares to name poll date tony blair is...</td>\n",
       "    </tr>\n",
       "    <tr>\n",
       "      <th>7</th>\n",
       "      <td>sport</td>\n",
       "      <td>henman hopes ended in dubai third seed tim hen...</td>\n",
       "    </tr>\n",
       "    <tr>\n",
       "      <th>8</th>\n",
       "      <td>sport</td>\n",
       "      <td>wilkinson fit to face edinburgh england captai...</td>\n",
       "    </tr>\n",
       "    <tr>\n",
       "      <th>9</th>\n",
       "      <td>entertainment</td>\n",
       "      <td>last star wars  not for children  the sixth an...</td>\n",
       "    </tr>\n",
       "  </tbody>\n",
       "</table>\n",
       "</div>"
      ],
      "text/plain": [
       "        category                                               text\n",
       "0           tech  tv future in the hands of viewers with home th...\n",
       "1       business  worldcom boss  left books alone  former worldc...\n",
       "2          sport  tigers wary of farrell  gamble  leicester say ...\n",
       "3          sport  yeading face newcastle in fa cup premiership s...\n",
       "4  entertainment  ocean s twelve raids box office ocean s twelve...\n",
       "5       politics  howard hits back at mongrel jibe michael howar...\n",
       "6       politics  blair prepares to name poll date tony blair is...\n",
       "7          sport  henman hopes ended in dubai third seed tim hen...\n",
       "8          sport  wilkinson fit to face edinburgh england captai...\n",
       "9  entertainment  last star wars  not for children  the sixth an..."
      ]
     },
     "execution_count": 8,
     "metadata": {
      "tags": []
     },
     "output_type": "execute_result"
    }
   ],
   "source": [
    "df.head(10)"
   ]
  },
  {
   "cell_type": "markdown",
   "metadata": {
    "colab_type": "text",
    "id": "8ifubtF0mmE9"
   },
   "source": [
    "## 1. Visualization of the target variable categories"
   ]
  },
  {
   "cell_type": "code",
   "execution_count": 0,
   "metadata": {
    "colab": {
     "base_uri": "https://localhost:8080/",
     "height": 593
    },
    "colab_type": "code",
    "executionInfo": {
     "elapsed": 412,
     "status": "ok",
     "timestamp": 1589249332626,
     "user": {
      "displayName": "Jino Kwon",
      "photoUrl": "https://lh3.googleusercontent.com/a-/AOh14GgV2Ncm3h1lWr3fmLm-2axiON25ZmFCeivTDWQB=s64",
      "userId": "03464591678848794865"
     },
     "user_tz": 240
    },
    "id": "z0BkWMnrmaRr",
    "outputId": "824ec6e4-51b4-4bb8-a2d0-678185b2fd59"
   },
   "outputs": [
    {
     "data": {
      "text/plain": [
       "Text(0, 0.5, 'Number')"
      ]
     },
     "execution_count": 12,
     "metadata": {
      "tags": []
     },
     "output_type": "execute_result"
    },
    {
     "data": {
      "image/png": "[encoded data removed]",
      "text/plain": [
       "<Figure size 720x576 with 1 Axes>"
      ]
     },
     "metadata": {
      "needs_background": "light",
      "tags": []
     },
     "output_type": "display_data"
    }
   ],
   "source": [
    "bar = df['category'].value_counts().sort_values().plot(kind='bar',\n",
    "                                        figsize=(10,8),\n",
    "                                        title=\"The Number of Each News Category\")\n",
    "bar.set_xlabel(\"Category Names\")\n",
    "bar.set_ylabel(\"Number\")"
   ]
  },
  {
   "cell_type": "markdown",
   "metadata": {
    "colab_type": "text",
    "id": "gaO3Xb22n7zf"
   },
   "source": [
    "**Observation**: We seem to have a fairly balanced dataset across different categories. 'Sport' is the category with the highest frequency (count), while 'Entertainment' is the one with the lowest count.\n",
    "\n",
    "## 2.  Preprocess the data\n",
    "* I will preprocess the data in a way that each document in the data is represented as a sequence of equal length."
   ]
  },
  {
   "cell_type": "code",
   "execution_count": 0,
   "metadata": {
    "colab": {
     "base_uri": "https://localhost:8080/",
     "height": 35
    },
    "colab_type": "code",
    "executionInfo": {
     "elapsed": 2410,
     "status": "ok",
     "timestamp": 1589249556624,
     "user": {
      "displayName": "Jino Kwon",
      "photoUrl": "https://lh3.googleusercontent.com/a-/AOh14GgV2Ncm3h1lWr3fmLm-2axiON25ZmFCeivTDWQB=s64",
      "userId": "03464591678848794865"
     },
     "user_tz": 240
    },
    "id": "OVIR_8JPna6W",
    "outputId": "584180b5-d1e9-484d-fa0a-f28463928711"
   },
   "outputs": [
    {
     "name": "stderr",
     "output_type": "stream",
     "text": [
      "Using TensorFlow backend.\n"
     ]
    }
   ],
   "source": [
    "from sklearn.preprocessing import LabelEncoder\n",
    "from keras.utils import to_categorical\n",
    "from sklearn.model_selection import train_test_split\n",
    "from keras.preprocessing.text import Tokenizer\n",
    "from keras.preprocessing.sequence import pad_sequences"
   ]
  },
  {
   "cell_type": "code",
   "execution_count": 0,
   "metadata": {
    "colab": {},
    "colab_type": "code",
    "id": "x8CSMhz-p7Zy"
   },
   "outputs": [],
   "source": [
    "X = df['text'].tolist()\n",
    "le = LabelEncoder()\n",
    "y = le.fit_transform(df['category'])\n",
    "y = to_categorical(y)\n",
    "\n",
    "# Train/Test Split\n",
    "X_train, X_test, y_train, y_test = train_test_split(X, y, test_size=0.2)"
   ]
  },
  {
   "cell_type": "code",
   "execution_count": 0,
   "metadata": {
    "colab": {
     "base_uri": "https://localhost:8080/",
     "height": 72
    },
    "colab_type": "code",
    "executionInfo": {
     "elapsed": 1420,
     "status": "ok",
     "timestamp": 1589249975819,
     "user": {
      "displayName": "Jino Kwon",
      "photoUrl": "https://lh3.googleusercontent.com/a-/AOh14GgV2Ncm3h1lWr3fmLm-2axiON25ZmFCeivTDWQB=s64",
      "userId": "03464591678848794865"
     },
     "user_tz": 240
    },
    "id": "8BOzfA1pqKTX",
    "outputId": "24c4083e-3fbd-489e-b155-fe04faac50f6"
   },
   "outputs": [
    {
     "name": "stdout",
     "output_type": "stream",
     "text": [
      "Found 27066 unique tokens.\n",
      "Shape of data tensor: (1780, 100)\n",
      "Shape of label tensor: (1780, 5)\n"
     ]
    }
   ],
   "source": [
    "# Tokenize the data into one hot vectors\n",
    "maxlen = 100  # We will cut reviews after 100 words\n",
    "max_words = 10000  # We will only consider the top 10,000 words in the dataset\n",
    "\n",
    "tokenizer = Tokenizer(num_words=max_words)\n",
    "tokenizer.fit_on_texts(X_train)\n",
    "sequences = tokenizer.texts_to_sequences(X_train) # converts words in each text to each word's numeric index in tokenizer dictionary.\n",
    "\n",
    "word_index = tokenizer.word_index\n",
    "print('Found %s unique tokens.' % len(word_index))\n",
    "\n",
    "data = pad_sequences(sequences, maxlen=maxlen)\n",
    "labels = np.asarray(y_train)\n",
    "print('Shape of data tensor:', data.shape)\n",
    "print('Shape of label tensor:', labels.shape)"
   ]
  },
  {
   "cell_type": "code",
   "execution_count": 0,
   "metadata": {
    "colab": {},
    "colab_type": "code",
    "id": "M5xi3Vb6rh_s"
   },
   "outputs": [],
   "source": [
    "# Split the data into a training set and a validation set\n",
    "# But first, shuffle the data\n",
    "indices = np.arange(data.shape[0])\n",
    "np.random.shuffle(indices)\n",
    "data = data[indices]\n",
    "labels = labels[indices]\n",
    "\n",
    "X_train = data\n",
    "y_train = labels"
   ]
  },
  {
   "cell_type": "code",
   "execution_count": 0,
   "metadata": {
    "colab": {},
    "colab_type": "code",
    "id": "bHh6tB3Rrivk"
   },
   "outputs": [],
   "source": [
    "sequences = tokenizer.texts_to_sequences(X_test)\n",
    "X_test = pad_sequences(sequences, maxlen=maxlen)\n",
    "y_test = np.asarray(y_test)"
   ]
  },
  {
   "cell_type": "markdown",
   "metadata": {
    "colab_type": "text",
    "id": "0DuLb_TernnL"
   },
   "source": [
    "## Use the data to fit separate DL models to each of the following architectures:\n",
    "- A. A model with an embedding layer and dense layers (but w/ no layers meant for sequential data)\n",
    "- B. A model using an Embedding layer with Conv1d Layers\n",
    "- C. A model using an Embedding layer with one sequential layer (LSTM or GRU)\n",
    "- D. A model using an Embedding layer with stacked sequential layers (LSTM or GRU)\n",
    "- E. A model using an Embedding layer with bidirectional sequential layers\n",
    "- F. Now retrain my best model from C, D, and E using dropout (with increased epochs!).\n",
    "\n",
    "### A. A model with an embedding layer and dense layers (but w/ no layers meant for sequential data)"
   ]
  },
  {
   "cell_type": "code",
   "execution_count": 0,
   "metadata": {
    "colab": {
     "base_uri": "https://localhost:8080/",
     "height": 1000
    },
    "colab_type": "code",
    "executionInfo": {
     "elapsed": 4109,
     "status": "ok",
     "timestamp": 1589250750771,
     "user": {
      "displayName": "Jino Kwon",
      "photoUrl": "https://lh3.googleusercontent.com/a-/AOh14GgV2Ncm3h1lWr3fmLm-2axiON25ZmFCeivTDWQB=s64",
      "userId": "03464591678848794865"
     },
     "user_tz": 240
    },
    "id": "FTyLl7evrm9s",
    "outputId": "2c218ba9-8b95-411f-c6c7-237fa035b80f"
   },
   "outputs": [
    {
     "name": "stdout",
     "output_type": "stream",
     "text": [
      "Model: \"sequential_4\"\n",
      "_________________________________________________________________\n",
      "Layer (type)                 Output Shape              Param #   \n",
      "=================================================================\n",
      "embedding_4 (Embedding)      (None, 100, 8)            80000     \n",
      "_________________________________________________________________\n",
      "flatten_2 (Flatten)          (None, 800)               0         \n",
      "_________________________________________________________________\n",
      "dense_4 (Dense)              (None, 5)                 4005      \n",
      "=================================================================\n",
      "Total params: 84,005\n",
      "Trainable params: 84,005\n",
      "Non-trainable params: 0\n",
      "_________________________________________________________________\n"
     ]
    },
    {
     "name": "stderr",
     "output_type": "stream",
     "text": [
      "/usr/local/lib/python3.6/dist-packages/tensorflow/python/framework/indexed_slices.py:434: UserWarning: Converting sparse IndexedSlices to a dense Tensor of unknown shape. This may consume a large amount of memory.\n",
      "  \"Converting sparse IndexedSlices to a dense Tensor of unknown shape. \"\n"
     ]
    },
    {
     "name": "stdout",
     "output_type": "stream",
     "text": [
      "Train on 1424 samples, validate on 356 samples\n",
      "Epoch 1/30\n",
      "1424/1424 [==============================] - 0s 132us/step - loss: 1.6078 - acc: 0.2177 - val_loss: 1.6007 - val_acc: 0.2893\n",
      "Epoch 2/30\n",
      "1424/1424 [==============================] - 0s 78us/step - loss: 1.5711 - acc: 0.4663 - val_loss: 1.5828 - val_acc: 0.3455\n",
      "Epoch 3/30\n",
      "1424/1424 [==============================] - 0s 75us/step - loss: 1.5125 - acc: 0.6025 - val_loss: 1.5372 - val_acc: 0.4382\n",
      "Epoch 4/30\n",
      "1424/1424 [==============================] - 0s 76us/step - loss: 1.4011 - acc: 0.6545 - val_loss: 1.4337 - val_acc: 0.5225\n",
      "Epoch 5/30\n",
      "1424/1424 [==============================] - 0s 78us/step - loss: 1.2232 - acc: 0.7353 - val_loss: 1.2900 - val_acc: 0.5815\n",
      "Epoch 6/30\n",
      "1424/1424 [==============================] - 0s 79us/step - loss: 1.0189 - acc: 0.8265 - val_loss: 1.1532 - val_acc: 0.6264\n",
      "Epoch 7/30\n",
      "1424/1424 [==============================] - 0s 78us/step - loss: 0.8244 - acc: 0.8855 - val_loss: 1.0397 - val_acc: 0.6770\n",
      "Epoch 8/30\n",
      "1424/1424 [==============================] - 0s 78us/step - loss: 0.6565 - acc: 0.9228 - val_loss: 0.9352 - val_acc: 0.7079\n",
      "Epoch 9/30\n",
      "1424/1424 [==============================] - 0s 78us/step - loss: 0.5190 - acc: 0.9438 - val_loss: 0.8547 - val_acc: 0.7247\n",
      "Epoch 10/30\n",
      "1424/1424 [==============================] - 0s 79us/step - loss: 0.4128 - acc: 0.9593 - val_loss: 0.7882 - val_acc: 0.7416\n",
      "Epoch 11/30\n",
      "1424/1424 [==============================] - 0s 75us/step - loss: 0.3314 - acc: 0.9712 - val_loss: 0.7373 - val_acc: 0.7472\n",
      "Epoch 12/30\n",
      "1424/1424 [==============================] - 0s 80us/step - loss: 0.2691 - acc: 0.9831 - val_loss: 0.6977 - val_acc: 0.7612\n",
      "Epoch 13/30\n",
      "1424/1424 [==============================] - 0s 77us/step - loss: 0.2199 - acc: 0.9902 - val_loss: 0.6642 - val_acc: 0.7781\n",
      "Epoch 14/30\n",
      "1424/1424 [==============================] - 0s 77us/step - loss: 0.1808 - acc: 0.9916 - val_loss: 0.6357 - val_acc: 0.7893\n",
      "Epoch 15/30\n",
      "1424/1424 [==============================] - 0s 82us/step - loss: 0.1489 - acc: 0.9958 - val_loss: 0.6136 - val_acc: 0.7921\n",
      "Epoch 16/30\n",
      "1424/1424 [==============================] - 0s 77us/step - loss: 0.1234 - acc: 0.9972 - val_loss: 0.5941 - val_acc: 0.8034\n",
      "Epoch 17/30\n",
      "1424/1424 [==============================] - 0s 75us/step - loss: 0.1019 - acc: 0.9979 - val_loss: 0.5784 - val_acc: 0.8006\n",
      "Epoch 18/30\n",
      "1424/1424 [==============================] - 0s 77us/step - loss: 0.0846 - acc: 0.9993 - val_loss: 0.5626 - val_acc: 0.8062\n",
      "Epoch 19/30\n",
      "1424/1424 [==============================] - 0s 75us/step - loss: 0.0703 - acc: 0.9993 - val_loss: 0.5499 - val_acc: 0.8062\n",
      "Epoch 20/30\n",
      "1424/1424 [==============================] - 0s 75us/step - loss: 0.0584 - acc: 1.0000 - val_loss: 0.5400 - val_acc: 0.8230\n",
      "Epoch 21/30\n",
      "1424/1424 [==============================] - 0s 74us/step - loss: 0.0486 - acc: 1.0000 - val_loss: 0.5285 - val_acc: 0.8230\n",
      "Epoch 22/30\n",
      "1424/1424 [==============================] - 0s 76us/step - loss: 0.0405 - acc: 1.0000 - val_loss: 0.5221 - val_acc: 0.8258\n",
      "Epoch 23/30\n",
      "1424/1424 [==============================] - 0s 80us/step - loss: 0.0340 - acc: 1.0000 - val_loss: 0.5142 - val_acc: 0.8287\n",
      "Epoch 24/30\n",
      "1424/1424 [==============================] - 0s 79us/step - loss: 0.0286 - acc: 1.0000 - val_loss: 0.5093 - val_acc: 0.8287\n",
      "Epoch 25/30\n",
      "1424/1424 [==============================] - 0s 82us/step - loss: 0.0242 - acc: 1.0000 - val_loss: 0.5052 - val_acc: 0.8287\n",
      "Epoch 26/30\n",
      "1424/1424 [==============================] - 0s 74us/step - loss: 0.0207 - acc: 1.0000 - val_loss: 0.5026 - val_acc: 0.8343\n",
      "Epoch 27/30\n",
      "1424/1424 [==============================] - 0s 74us/step - loss: 0.0178 - acc: 1.0000 - val_loss: 0.4992 - val_acc: 0.8315\n",
      "Epoch 28/30\n",
      "1424/1424 [==============================] - 0s 80us/step - loss: 0.0154 - acc: 1.0000 - val_loss: 0.4972 - val_acc: 0.8343\n",
      "Epoch 29/30\n",
      "1424/1424 [==============================] - 0s 79us/step - loss: 0.0135 - acc: 1.0000 - val_loss: 0.4974 - val_acc: 0.8371\n",
      "Epoch 30/30\n",
      "1424/1424 [==============================] - 0s 75us/step - loss: 0.0119 - acc: 1.0000 - val_loss: 0.4953 - val_acc: 0.8343\n"
     ]
    }
   ],
   "source": [
    "# Let's start with a model that ignores the sequential steps that make up each observation\n",
    "from keras.layers import Dense, Embedding\n",
    "from keras.models import Sequential\n",
    "from keras.layers import Flatten, Dense\n",
    "\n",
    "model = Sequential()\n",
    "# Specify the size of your vocabulary (i.e.-10,000 terms)\n",
    "# Specify the number of features you want to extract via fitting weights to your embedding matrix.\n",
    "# We also specify the maximum input length to our Embedding layer\n",
    "# so we can later flatten the embedded inputs \n",
    "model.add(Embedding(10000, 8, input_length=maxlen))\n",
    "# After the Embedding layer, \n",
    "# our activations have shape `(samples, maxlen, 8)`.\n",
    "\n",
    "# We flatten the 3D tensor of embeddings \n",
    "# into a 2D tensor of shape `(samples, maxlen * 8)`\n",
    "model.add(Flatten())\n",
    "\n",
    "# We add the classifier on top\n",
    "model.add(Dense(5, activation='softmax'))\n",
    "model.compile(optimizer='adadelta', loss='categorical_crossentropy', metrics=['acc'])\n",
    "model.summary()\n",
    "\n",
    "history = model.fit(X_train, y_train,\n",
    "                    epochs=30,\n",
    "                    batch_size=32,\n",
    "                    validation_split=0.2)"
   ]
  },
  {
   "cell_type": "code",
   "execution_count": 0,
   "metadata": {
    "colab": {
     "base_uri": "https://localhost:8080/",
     "height": 54
    },
    "colab_type": "code",
    "executionInfo": {
     "elapsed": 226,
     "status": "ok",
     "timestamp": 1589250754959,
     "user": {
      "displayName": "Jino Kwon",
      "photoUrl": "https://lh3.googleusercontent.com/a-/AOh14GgV2Ncm3h1lWr3fmLm-2axiON25ZmFCeivTDWQB=s64",
      "userId": "03464591678848794865"
     },
     "user_tz": 240
    },
    "id": "vrTzbbamrkvB",
    "outputId": "4c9c06ef-28ae-4b5b-8aac-3929e5fca54f"
   },
   "outputs": [
    {
     "name": "stdout",
     "output_type": "stream",
     "text": [
      "445/445 [==============================] - 0s 53us/step\n"
     ]
    },
    {
     "data": {
      "text/plain": [
       "[0.6233817219734192, 0.7797752618789673]"
      ]
     },
     "execution_count": 25,
     "metadata": {
      "tags": []
     },
     "output_type": "execute_result"
    }
   ],
   "source": [
    "model.evaluate(X_test, y_test)"
   ]
  },
  {
   "cell_type": "markdown",
   "metadata": {
    "colab_type": "text",
    "id": "cIM9SNwAs6z-"
   },
   "source": [
    "## B. A model using an Embedding layer with Conv1d Layers"
   ]
  },
  {
   "cell_type": "code",
   "execution_count": 0,
   "metadata": {
    "colab": {
     "base_uri": "https://localhost:8080/",
     "height": 1000
    },
    "colab_type": "code",
    "executionInfo": {
     "elapsed": 38585,
     "status": "ok",
     "timestamp": 1589250794924,
     "user": {
      "displayName": "Jino Kwon",
      "photoUrl": "https://lh3.googleusercontent.com/a-/AOh14GgV2Ncm3h1lWr3fmLm-2axiON25ZmFCeivTDWQB=s64",
      "userId": "03464591678848794865"
     },
     "user_tz": 240
    },
    "id": "QSX-BpDps36Y",
    "outputId": "537efee7-4bdb-4492-b9c4-c854646530b9"
   },
   "outputs": [
    {
     "name": "stdout",
     "output_type": "stream",
     "text": [
      "Model: \"sequential_5\"\n",
      "_________________________________________________________________\n",
      "Layer (type)                 Output Shape              Param #   \n",
      "=================================================================\n",
      "embedding_5 (Embedding)      (None, 100, 128)          1280000   \n",
      "_________________________________________________________________\n",
      "conv1d_3 (Conv1D)            (None, 94, 32)            28704     \n",
      "_________________________________________________________________\n",
      "max_pooling1d_2 (MaxPooling1 (None, 18, 32)            0         \n",
      "_________________________________________________________________\n",
      "conv1d_4 (Conv1D)            (None, 12, 32)            7200      \n",
      "_________________________________________________________________\n",
      "global_max_pooling1d_2 (Glob (None, 32)                0         \n",
      "_________________________________________________________________\n",
      "dense_5 (Dense)              (None, 5)                 165       \n",
      "=================================================================\n",
      "Total params: 1,316,069\n",
      "Trainable params: 1,316,069\n",
      "Non-trainable params: 0\n",
      "_________________________________________________________________\n"
     ]
    },
    {
     "name": "stderr",
     "output_type": "stream",
     "text": [
      "/usr/local/lib/python3.6/dist-packages/tensorflow/python/framework/indexed_slices.py:434: UserWarning: Converting sparse IndexedSlices to a dense Tensor of unknown shape. This may consume a large amount of memory.\n",
      "  \"Converting sparse IndexedSlices to a dense Tensor of unknown shape. \"\n"
     ]
    },
    {
     "name": "stdout",
     "output_type": "stream",
     "text": [
      "Train on 1424 samples, validate on 356 samples\n",
      "Epoch 1/30\n",
      "1424/1424 [==============================] - 1s 912us/step - loss: 1.6058 - acc: 0.2240 - val_loss: 1.5927 - val_acc: 0.2781\n",
      "Epoch 2/30\n",
      "1424/1424 [==============================] - 1s 835us/step - loss: 1.5912 - acc: 0.2381 - val_loss: 1.5902 - val_acc: 0.2781\n",
      "Epoch 3/30\n",
      "1424/1424 [==============================] - 1s 826us/step - loss: 1.5817 - acc: 0.2486 - val_loss: 1.5886 - val_acc: 0.2809\n",
      "Epoch 4/30\n",
      "1424/1424 [==============================] - 1s 842us/step - loss: 1.5731 - acc: 0.3083 - val_loss: 1.5875 - val_acc: 0.2893\n",
      "Epoch 5/30\n",
      "1424/1424 [==============================] - 1s 840us/step - loss: 1.5652 - acc: 0.3736 - val_loss: 1.5860 - val_acc: 0.3062\n",
      "Epoch 6/30\n",
      "1424/1424 [==============================] - 1s 832us/step - loss: 1.5575 - acc: 0.4199 - val_loss: 1.5849 - val_acc: 0.3202\n",
      "Epoch 7/30\n",
      "1424/1424 [==============================] - 1s 838us/step - loss: 1.5498 - acc: 0.4445 - val_loss: 1.5835 - val_acc: 0.3202\n",
      "Epoch 8/30\n",
      "1424/1424 [==============================] - 1s 853us/step - loss: 1.5423 - acc: 0.4466 - val_loss: 1.5816 - val_acc: 0.3483\n",
      "Epoch 9/30\n",
      "1424/1424 [==============================] - 1s 845us/step - loss: 1.5346 - acc: 0.4544 - val_loss: 1.5793 - val_acc: 0.3567\n",
      "Epoch 10/30\n",
      "1424/1424 [==============================] - 1s 858us/step - loss: 1.5272 - acc: 0.4565 - val_loss: 1.5778 - val_acc: 0.3567\n",
      "Epoch 11/30\n",
      "1424/1424 [==============================] - 1s 848us/step - loss: 1.5195 - acc: 0.4579 - val_loss: 1.5760 - val_acc: 0.3792\n",
      "Epoch 12/30\n",
      "1424/1424 [==============================] - 1s 868us/step - loss: 1.5119 - acc: 0.4614 - val_loss: 1.5738 - val_acc: 0.3820\n",
      "Epoch 13/30\n",
      "1424/1424 [==============================] - 1s 849us/step - loss: 1.5040 - acc: 0.4656 - val_loss: 1.5711 - val_acc: 0.3961\n",
      "Epoch 14/30\n",
      "1424/1424 [==============================] - 1s 864us/step - loss: 1.4962 - acc: 0.4853 - val_loss: 1.5693 - val_acc: 0.4185\n",
      "Epoch 15/30\n",
      "1424/1424 [==============================] - 1s 841us/step - loss: 1.4880 - acc: 0.4951 - val_loss: 1.5666 - val_acc: 0.4185\n",
      "Epoch 16/30\n",
      "1424/1424 [==============================] - 1s 825us/step - loss: 1.4796 - acc: 0.4937 - val_loss: 1.5631 - val_acc: 0.4382\n",
      "Epoch 17/30\n",
      "1424/1424 [==============================] - 1s 837us/step - loss: 1.4712 - acc: 0.4958 - val_loss: 1.5600 - val_acc: 0.4410\n",
      "Epoch 18/30\n",
      "1424/1424 [==============================] - 1s 833us/step - loss: 1.4625 - acc: 0.5000 - val_loss: 1.5573 - val_acc: 0.4410\n",
      "Epoch 19/30\n",
      "1424/1424 [==============================] - 1s 840us/step - loss: 1.4534 - acc: 0.5084 - val_loss: 1.5534 - val_acc: 0.4579\n",
      "Epoch 20/30\n",
      "1424/1424 [==============================] - 1s 855us/step - loss: 1.4440 - acc: 0.5176 - val_loss: 1.5495 - val_acc: 0.4466\n",
      "Epoch 21/30\n",
      "1424/1424 [==============================] - 1s 862us/step - loss: 1.4343 - acc: 0.5225 - val_loss: 1.5453 - val_acc: 0.4579\n",
      "Epoch 22/30\n",
      "1424/1424 [==============================] - 1s 846us/step - loss: 1.4242 - acc: 0.5414 - val_loss: 1.5401 - val_acc: 0.4803\n",
      "Epoch 23/30\n",
      "1424/1424 [==============================] - 1s 852us/step - loss: 1.4135 - acc: 0.5562 - val_loss: 1.5350 - val_acc: 0.4972\n",
      "Epoch 24/30\n",
      "1424/1424 [==============================] - 1s 827us/step - loss: 1.4024 - acc: 0.5850 - val_loss: 1.5295 - val_acc: 0.4831\n",
      "Epoch 25/30\n",
      "1424/1424 [==============================] - 1s 819us/step - loss: 1.3909 - acc: 0.5864 - val_loss: 1.5231 - val_acc: 0.5000\n",
      "Epoch 26/30\n",
      "1424/1424 [==============================] - 1s 816us/step - loss: 1.3788 - acc: 0.5934 - val_loss: 1.5148 - val_acc: 0.5084\n",
      "Epoch 27/30\n",
      "1424/1424 [==============================] - 1s 812us/step - loss: 1.3660 - acc: 0.6510 - val_loss: 1.5065 - val_acc: 0.5140\n",
      "Epoch 28/30\n",
      "1424/1424 [==============================] - 1s 805us/step - loss: 1.3524 - acc: 0.6306 - val_loss: 1.4982 - val_acc: 0.5225\n",
      "Epoch 29/30\n",
      "1424/1424 [==============================] - 1s 807us/step - loss: 1.3381 - acc: 0.6671 - val_loss: 1.4874 - val_acc: 0.5253\n",
      "Epoch 30/30\n",
      "1424/1424 [==============================] - 1s 802us/step - loss: 1.3233 - acc: 0.7037 - val_loss: 1.4772 - val_acc: 0.5197\n"
     ]
    }
   ],
   "source": [
    "# Use 1D Conv layer rather than RNN or LSTM or GRU to fit model\n",
    "\n",
    "from keras.models import Sequential\n",
    "from keras import layers\n",
    "from keras.optimizers import RMSprop\n",
    "\n",
    "model = Sequential()\n",
    "model.add(layers.Embedding(max_words, 128, input_length=maxlen))\n",
    "model.add(layers.Conv1D(32, 7, activation='relu')) \n",
    "model.add(layers.MaxPooling1D(5))\n",
    "model.add(layers.Conv1D(32, 7, activation='relu'))\n",
    "model.add(layers.GlobalMaxPooling1D())\n",
    "model.add(layers.Dense(5, activation='softmax'))\n",
    "\n",
    "model.summary()\n",
    "\n",
    "model.compile(optimizer=RMSprop(lr=1e-4),\n",
    "              loss='categorical_crossentropy',\n",
    "              metrics=['acc'])\n",
    "history = model.fit(X_train, y_train,\n",
    "                    epochs=30,\n",
    "                    batch_size=128,\n",
    "                    validation_split=0.2)"
   ]
  },
  {
   "cell_type": "code",
   "execution_count": 0,
   "metadata": {
    "colab": {
     "base_uri": "https://localhost:8080/",
     "height": 54
    },
    "colab_type": "code",
    "executionInfo": {
     "elapsed": 37401,
     "status": "ok",
     "timestamp": 1589250794926,
     "user": {
      "displayName": "Jino Kwon",
      "photoUrl": "https://lh3.googleusercontent.com/a-/AOh14GgV2Ncm3h1lWr3fmLm-2axiON25ZmFCeivTDWQB=s64",
      "userId": "03464591678848794865"
     },
     "user_tz": 240
    },
    "id": "BaGn_z3JtW6C",
    "outputId": "4ed98d82-b9f5-4b28-9639-e8aa281864ae"
   },
   "outputs": [
    {
     "name": "stdout",
     "output_type": "stream",
     "text": [
      "445/445 [==============================] - 0s 201us/step\n"
     ]
    },
    {
     "data": {
      "text/plain": [
       "[1.5033330086911663, 0.45617976784706116]"
      ]
     },
     "execution_count": 27,
     "metadata": {
      "tags": []
     },
     "output_type": "execute_result"
    }
   ],
   "source": [
    "model.evaluate(X_test, y_test)"
   ]
  },
  {
   "cell_type": "markdown",
   "metadata": {
    "colab_type": "text",
    "id": "O3riKdTTtnpD"
   },
   "source": [
    "## C. A model using an Embedding layer with one sequential layer (LSTM or GRU)"
   ]
  },
  {
   "cell_type": "code",
   "execution_count": 0,
   "metadata": {
    "colab": {
     "base_uri": "https://localhost:8080/",
     "height": 1000
    },
    "colab_type": "code",
    "executionInfo": {
     "elapsed": 56945,
     "status": "ok",
     "timestamp": 1589250830645,
     "user": {
      "displayName": "Jino Kwon",
      "photoUrl": "https://lh3.googleusercontent.com/a-/AOh14GgV2Ncm3h1lWr3fmLm-2axiON25ZmFCeivTDWQB=s64",
      "userId": "03464591678848794865"
     },
     "user_tz": 240
    },
    "id": "JdiSl5rqthK7",
    "outputId": "ef4dfed2-58de-412b-89ab-2dc2f22dbebd"
   },
   "outputs": [
    {
     "name": "stderr",
     "output_type": "stream",
     "text": [
      "/usr/local/lib/python3.6/dist-packages/tensorflow/python/framework/indexed_slices.py:434: UserWarning: Converting sparse IndexedSlices to a dense Tensor of unknown shape. This may consume a large amount of memory.\n",
      "  \"Converting sparse IndexedSlices to a dense Tensor of unknown shape. \"\n"
     ]
    },
    {
     "name": "stdout",
     "output_type": "stream",
     "text": [
      "Train on 1424 samples, validate on 356 samples\n",
      "Epoch 1/30\n",
      "1424/1424 [==============================] - 1s 1000us/step - loss: 1.6056 - acc: 0.2268 - val_loss: 1.5781 - val_acc: 0.2949\n",
      "Epoch 2/30\n",
      "1424/1424 [==============================] - 1s 913us/step - loss: 1.4504 - acc: 0.4614 - val_loss: 1.5633 - val_acc: 0.2949\n",
      "Epoch 3/30\n",
      "1424/1424 [==============================] - 1s 915us/step - loss: 1.2322 - acc: 0.6468 - val_loss: 1.6246 - val_acc: 0.2416\n",
      "Epoch 4/30\n",
      "1424/1424 [==============================] - 1s 891us/step - loss: 0.9712 - acc: 0.7725 - val_loss: 1.6188 - val_acc: 0.2949\n",
      "Epoch 5/30\n",
      "1424/1424 [==============================] - 1s 880us/step - loss: 0.5674 - acc: 0.9291 - val_loss: 1.6381 - val_acc: 0.3118\n",
      "Epoch 6/30\n",
      "1424/1424 [==============================] - 1s 888us/step - loss: 0.2807 - acc: 0.9817 - val_loss: 1.7206 - val_acc: 0.3146\n",
      "Epoch 7/30\n",
      "1424/1424 [==============================] - 1s 867us/step - loss: 0.1165 - acc: 1.0000 - val_loss: 1.8281 - val_acc: 0.3090\n",
      "Epoch 8/30\n",
      "1424/1424 [==============================] - 1s 868us/step - loss: 0.0522 - acc: 1.0000 - val_loss: 1.9403 - val_acc: 0.3090\n",
      "Epoch 9/30\n",
      "1424/1424 [==============================] - 1s 872us/step - loss: 0.0276 - acc: 1.0000 - val_loss: 1.9698 - val_acc: 0.3062\n",
      "Epoch 10/30\n",
      "1424/1424 [==============================] - 1s 839us/step - loss: 0.0158 - acc: 1.0000 - val_loss: 2.1075 - val_acc: 0.3090\n",
      "Epoch 11/30\n",
      "1424/1424 [==============================] - 1s 843us/step - loss: 0.0101 - acc: 1.0000 - val_loss: 2.1569 - val_acc: 0.3062\n",
      "Epoch 12/30\n",
      "1424/1424 [==============================] - 1s 823us/step - loss: 0.0501 - acc: 0.9867 - val_loss: 2.3153 - val_acc: 0.2809\n",
      "Epoch 13/30\n",
      "1424/1424 [==============================] - 1s 845us/step - loss: 0.3291 - acc: 0.9024 - val_loss: 2.2926 - val_acc: 0.3006\n",
      "Epoch 14/30\n",
      "1424/1424 [==============================] - 1s 846us/step - loss: 0.0298 - acc: 0.9993 - val_loss: 2.3272 - val_acc: 0.2949\n",
      "Epoch 15/30\n",
      "1424/1424 [==============================] - 1s 806us/step - loss: 0.0122 - acc: 1.0000 - val_loss: 2.3646 - val_acc: 0.2865\n",
      "Epoch 16/30\n",
      "1424/1424 [==============================] - 1s 808us/step - loss: 0.0076 - acc: 1.0000 - val_loss: 2.4358 - val_acc: 0.2921\n",
      "Epoch 17/30\n",
      "1424/1424 [==============================] - 1s 856us/step - loss: 0.0048 - acc: 1.0000 - val_loss: 2.4957 - val_acc: 0.2921\n",
      "Epoch 18/30\n",
      "1424/1424 [==============================] - 1s 797us/step - loss: 0.0031 - acc: 1.0000 - val_loss: 2.5719 - val_acc: 0.3006\n",
      "Epoch 19/30\n",
      "1424/1424 [==============================] - 1s 789us/step - loss: 0.1058 - acc: 0.9614 - val_loss: 2.6670 - val_acc: 0.2500\n",
      "Epoch 20/30\n",
      "1424/1424 [==============================] - 1s 801us/step - loss: 0.3830 - acc: 0.8708 - val_loss: 2.3411 - val_acc: 0.3174\n",
      "Epoch 21/30\n",
      "1424/1424 [==============================] - 1s 837us/step - loss: 0.0192 - acc: 1.0000 - val_loss: 2.3981 - val_acc: 0.2978\n",
      "Epoch 22/30\n",
      "1424/1424 [==============================] - 1s 795us/step - loss: 0.0092 - acc: 1.0000 - val_loss: 2.4331 - val_acc: 0.3006\n",
      "Epoch 23/30\n",
      "1424/1424 [==============================] - 1s 862us/step - loss: 0.0058 - acc: 1.0000 - val_loss: 2.4658 - val_acc: 0.2949\n",
      "Epoch 24/30\n",
      "1424/1424 [==============================] - 1s 887us/step - loss: 0.0035 - acc: 1.0000 - val_loss: 2.5500 - val_acc: 0.3062\n",
      "Epoch 25/30\n",
      "1424/1424 [==============================] - 1s 878us/step - loss: 0.0022 - acc: 1.0000 - val_loss: 2.5665 - val_acc: 0.3258\n",
      "Epoch 26/30\n",
      "1424/1424 [==============================] - 1s 858us/step - loss: 0.0015 - acc: 1.0000 - val_loss: 2.7178 - val_acc: 0.2978\n",
      "Epoch 27/30\n",
      "1424/1424 [==============================] - 1s 867us/step - loss: 0.0011 - acc: 1.0000 - val_loss: 2.7354 - val_acc: 0.3006\n",
      "Epoch 28/30\n",
      "1424/1424 [==============================] - 1s 868us/step - loss: 0.0181 - acc: 0.9937 - val_loss: 3.0581 - val_acc: 0.2893\n",
      "Epoch 29/30\n",
      "1424/1424 [==============================] - 1s 865us/step - loss: 0.5257 - acc: 0.8301 - val_loss: 2.4063 - val_acc: 0.3315\n",
      "Epoch 30/30\n",
      "1424/1424 [==============================] - 1s 860us/step - loss: 0.0207 - acc: 0.9993 - val_loss: 2.4358 - val_acc: 0.3539\n"
     ]
    }
   ],
   "source": [
    "from keras.layers import SimpleRNN, LSTM\n",
    "from keras.models import Sequential\n",
    "from keras.layers import Embedding, SimpleRNN\n",
    "\n",
    "model = Sequential()\n",
    "model.add(Embedding(max_words, 32))\n",
    "model.add(SimpleRNN(32))\n",
    "model.add(Dense(5, activation='softmax'))\n",
    "\n",
    "model.compile(optimizer='adadelta', loss='categorical_crossentropy', metrics=['acc'])\n",
    "history = model.fit(X_train, y_train,\n",
    "                    epochs=30,\n",
    "                    batch_size=32,\n",
    "                    validation_split=0.2)"
   ]
  },
  {
   "cell_type": "code",
   "execution_count": 0,
   "metadata": {
    "colab": {
     "base_uri": "https://localhost:8080/",
     "height": 54
    },
    "colab_type": "code",
    "executionInfo": {
     "elapsed": 56112,
     "status": "ok",
     "timestamp": 1589250830871,
     "user": {
      "displayName": "Jino Kwon",
      "photoUrl": "https://lh3.googleusercontent.com/a-/AOh14GgV2Ncm3h1lWr3fmLm-2axiON25ZmFCeivTDWQB=s64",
      "userId": "03464591678848794865"
     },
     "user_tz": 240
    },
    "id": "kFvUsunPuCJB",
    "outputId": "652df062-c2f4-4365-e6b0-cc899d2bee13"
   },
   "outputs": [
    {
     "name": "stdout",
     "output_type": "stream",
     "text": [
      "445/445 [==============================] - 0s 154us/step\n"
     ]
    },
    {
     "data": {
      "text/plain": [
       "[2.4770825552136713, 0.32359549403190613]"
      ]
     },
     "execution_count": 29,
     "metadata": {
      "tags": []
     },
     "output_type": "execute_result"
    }
   ],
   "source": [
    "model.evaluate(X_test, y_test)"
   ]
  },
  {
   "cell_type": "markdown",
   "metadata": {
    "colab_type": "text",
    "id": "hmzwlGH6uNwj"
   },
   "source": [
    "## D. A model using an Embedding layer with stacked sequential layers (LSTM or GRU)"
   ]
  },
  {
   "cell_type": "code",
   "execution_count": 0,
   "metadata": {
    "colab": {
     "base_uri": "https://localhost:8080/",
     "height": 1000
    },
    "colab_type": "code",
    "executionInfo": {
     "elapsed": 112810,
     "status": "ok",
     "timestamp": 1589250968984,
     "user": {
      "displayName": "Jino Kwon",
      "photoUrl": "https://lh3.googleusercontent.com/a-/AOh14GgV2Ncm3h1lWr3fmLm-2axiON25ZmFCeivTDWQB=s64",
      "userId": "03464591678848794865"
     },
     "user_tz": 240
    },
    "id": "AlDW_9U_uGeV",
    "outputId": "e1ea96b1-d9c0-447f-a4fc-1559d109ad8d"
   },
   "outputs": [
    {
     "name": "stderr",
     "output_type": "stream",
     "text": [
      "/usr/local/lib/python3.6/dist-packages/tensorflow/python/framework/indexed_slices.py:434: UserWarning: Converting sparse IndexedSlices to a dense Tensor of unknown shape. This may consume a large amount of memory.\n",
      "  \"Converting sparse IndexedSlices to a dense Tensor of unknown shape. \"\n"
     ]
    },
    {
     "name": "stdout",
     "output_type": "stream",
     "text": [
      "Train on 1424 samples, validate on 356 samples\n",
      "Epoch 1/30\n",
      "1424/1424 [==============================] - 4s 3ms/step - loss: 1.6555 - acc: 0.2065 - val_loss: 1.5930 - val_acc: 0.2781\n",
      "Epoch 2/30\n",
      "1424/1424 [==============================] - 4s 3ms/step - loss: 1.5112 - acc: 0.3301 - val_loss: 1.6701 - val_acc: 0.2444\n",
      "Epoch 3/30\n",
      "1424/1424 [==============================] - 4s 3ms/step - loss: 1.0992 - acc: 0.6025 - val_loss: 1.7648 - val_acc: 0.2978\n",
      "Epoch 4/30\n",
      "1424/1424 [==============================] - 4s 3ms/step - loss: 0.5656 - acc: 0.8427 - val_loss: 2.0465 - val_acc: 0.3006\n",
      "Epoch 5/30\n",
      "1424/1424 [==============================] - 4s 3ms/step - loss: 0.2372 - acc: 0.9515 - val_loss: 2.2094 - val_acc: 0.3174\n",
      "Epoch 6/30\n",
      "1424/1424 [==============================] - 4s 3ms/step - loss: 0.0677 - acc: 0.9986 - val_loss: 2.4202 - val_acc: 0.3174\n",
      "Epoch 7/30\n",
      "1424/1424 [==============================] - 4s 3ms/step - loss: 0.0261 - acc: 1.0000 - val_loss: 2.6041 - val_acc: 0.3174\n",
      "Epoch 8/30\n",
      "1424/1424 [==============================] - 4s 3ms/step - loss: 0.0118 - acc: 1.0000 - val_loss: 2.8122 - val_acc: 0.3118\n",
      "Epoch 9/30\n",
      "1424/1424 [==============================] - 4s 3ms/step - loss: 0.0058 - acc: 1.0000 - val_loss: 2.9737 - val_acc: 0.3118\n",
      "Epoch 10/30\n",
      "1424/1424 [==============================] - 4s 3ms/step - loss: 0.0030 - acc: 1.0000 - val_loss: 3.1192 - val_acc: 0.3118\n",
      "Epoch 11/30\n",
      "1424/1424 [==============================] - 4s 3ms/step - loss: 0.0018 - acc: 1.0000 - val_loss: 3.2969 - val_acc: 0.3062\n",
      "Epoch 12/30\n",
      "1424/1424 [==============================] - 4s 3ms/step - loss: 0.0012 - acc: 1.0000 - val_loss: 3.3868 - val_acc: 0.3090\n",
      "Epoch 13/30\n",
      "1424/1424 [==============================] - 4s 3ms/step - loss: 8.4162e-04 - acc: 1.0000 - val_loss: 3.4560 - val_acc: 0.3090\n",
      "Epoch 14/30\n",
      "1424/1424 [==============================] - 4s 3ms/step - loss: 6.4890e-04 - acc: 1.0000 - val_loss: 3.5736 - val_acc: 0.3090\n",
      "Epoch 15/30\n",
      "1424/1424 [==============================] - 4s 3ms/step - loss: 5.2736e-04 - acc: 1.0000 - val_loss: 3.6099 - val_acc: 0.3034\n",
      "Epoch 16/30\n",
      "1424/1424 [==============================] - 4s 3ms/step - loss: 4.4482e-04 - acc: 1.0000 - val_loss: 3.6856 - val_acc: 0.3118\n",
      "Epoch 17/30\n",
      "1424/1424 [==============================] - 4s 3ms/step - loss: 3.8459e-04 - acc: 1.0000 - val_loss: 3.7164 - val_acc: 0.3062\n",
      "Epoch 18/30\n",
      "1424/1424 [==============================] - 3s 2ms/step - loss: 3.3846e-04 - acc: 1.0000 - val_loss: 3.7523 - val_acc: 0.3062\n",
      "Epoch 19/30\n",
      "1424/1424 [==============================] - 4s 3ms/step - loss: 3.0279e-04 - acc: 1.0000 - val_loss: 3.7935 - val_acc: 0.3062\n",
      "Epoch 20/30\n",
      "1424/1424 [==============================] - 4s 3ms/step - loss: 2.7315e-04 - acc: 1.0000 - val_loss: 3.8393 - val_acc: 0.3062\n",
      "Epoch 21/30\n",
      "1424/1424 [==============================] - 4s 3ms/step - loss: 2.4914e-04 - acc: 1.0000 - val_loss: 3.8675 - val_acc: 0.3062\n",
      "Epoch 22/30\n",
      "1424/1424 [==============================] - 4s 3ms/step - loss: 2.2903e-04 - acc: 1.0000 - val_loss: 3.8950 - val_acc: 0.3034\n",
      "Epoch 23/30\n",
      "1424/1424 [==============================] - 4s 3ms/step - loss: 2.1183e-04 - acc: 1.0000 - val_loss: 3.9139 - val_acc: 0.3062\n",
      "Epoch 24/30\n",
      "1424/1424 [==============================] - 4s 3ms/step - loss: 1.9695e-04 - acc: 1.0000 - val_loss: 3.9392 - val_acc: 0.3034\n",
      "Epoch 25/30\n",
      "1424/1424 [==============================] - 4s 3ms/step - loss: 1.8405e-04 - acc: 1.0000 - val_loss: 3.9698 - val_acc: 0.3090\n",
      "Epoch 26/30\n",
      "1424/1424 [==============================] - 4s 3ms/step - loss: 1.7288e-04 - acc: 1.0000 - val_loss: 3.9931 - val_acc: 0.3062\n",
      "Epoch 27/30\n",
      "1424/1424 [==============================] - 4s 3ms/step - loss: 1.6279e-04 - acc: 1.0000 - val_loss: 4.0082 - val_acc: 0.3090\n",
      "Epoch 28/30\n",
      "1424/1424 [==============================] - 4s 3ms/step - loss: 1.5381e-04 - acc: 1.0000 - val_loss: 4.0216 - val_acc: 0.3062\n",
      "Epoch 29/30\n",
      "1424/1424 [==============================] - 4s 3ms/step - loss: 1.4580e-04 - acc: 1.0000 - val_loss: 4.0387 - val_acc: 0.3062\n",
      "Epoch 30/30\n",
      "1424/1424 [==============================] - 4s 3ms/step - loss: 1.3872e-04 - acc: 1.0000 - val_loss: 4.0545 - val_acc: 0.3090\n"
     ]
    }
   ],
   "source": [
    "# Stacked RNN layers\n",
    "\n",
    "model = Sequential()\n",
    "model.add(Embedding(10000, 32))\n",
    "model.add(SimpleRNN(32, return_sequences=True))\n",
    "model.add(SimpleRNN(32, return_sequences=True))\n",
    "model.add(SimpleRNN(32, return_sequences=True))\n",
    "model.add(SimpleRNN(32))\n",
    "model.add(Dense(5, activation='softmax'))\n",
    "\n",
    "model.compile(optimizer='adadelta', loss='categorical_crossentropy', metrics=['acc'])\n",
    "history = model.fit(X_train, y_train,\n",
    "                    epochs=30,\n",
    "                    batch_size=32,\n",
    "                    validation_split=0.2)"
   ]
  },
  {
   "cell_type": "code",
   "execution_count": 0,
   "metadata": {
    "colab": {
     "base_uri": "https://localhost:8080/",
     "height": 54
    },
    "colab_type": "code",
    "executionInfo": {
     "elapsed": 110921,
     "status": "ok",
     "timestamp": 1589250969286,
     "user": {
      "displayName": "Jino Kwon",
      "photoUrl": "https://lh3.googleusercontent.com/a-/AOh14GgV2Ncm3h1lWr3fmLm-2axiON25ZmFCeivTDWQB=s64",
      "userId": "03464591678848794865"
     },
     "user_tz": 240
    },
    "id": "5E7hkN_ku5RU",
    "outputId": "9ec11844-8e5b-4d51-970c-ec18d685cdd5"
   },
   "outputs": [
    {
     "name": "stdout",
     "output_type": "stream",
     "text": [
      "445/445 [==============================] - 0s 546us/step\n"
     ]
    },
    {
     "data": {
      "text/plain": [
       "[4.0775060685832845, 0.307865172624588]"
      ]
     },
     "execution_count": 31,
     "metadata": {
      "tags": []
     },
     "output_type": "execute_result"
    }
   ],
   "source": [
    "model.evaluate(X_test, y_test)"
   ]
  },
  {
   "cell_type": "markdown",
   "metadata": {
    "colab_type": "text",
    "id": "cA2oWTIeu6am"
   },
   "source": [
    "## E. A model using an Embedding layer with bidirectional sequential layers"
   ]
  },
  {
   "cell_type": "code",
   "execution_count": 0,
   "metadata": {
    "colab": {
     "base_uri": "https://localhost:8080/",
     "height": 1000
    },
    "colab_type": "code",
    "executionInfo": {
     "elapsed": 140849,
     "status": "ok",
     "timestamp": 1589251031893,
     "user": {
      "displayName": "Jino Kwon",
      "photoUrl": "https://lh3.googleusercontent.com/a-/AOh14GgV2Ncm3h1lWr3fmLm-2axiON25ZmFCeivTDWQB=s64",
      "userId": "03464591678848794865"
     },
     "user_tz": 240
    },
    "id": "H2eyxNVYu50T",
    "outputId": "76a87191-5fee-412e-97aa-22f433b13291"
   },
   "outputs": [
    {
     "name": "stderr",
     "output_type": "stream",
     "text": [
      "/usr/local/lib/python3.6/dist-packages/tensorflow/python/framework/indexed_slices.py:434: UserWarning: Converting sparse IndexedSlices to a dense Tensor of unknown shape. This may consume a large amount of memory.\n",
      "  \"Converting sparse IndexedSlices to a dense Tensor of unknown shape. \"\n"
     ]
    },
    {
     "name": "stdout",
     "output_type": "stream",
     "text": [
      "Train on 1424 samples, validate on 356 samples\n",
      "Epoch 1/30\n",
      "1424/1424 [==============================] - 3s 2ms/step - loss: 1.6073 - acc: 0.2135 - val_loss: 1.5986 - val_acc: 0.2753\n",
      "Epoch 2/30\n",
      "1424/1424 [==============================] - 2s 1ms/step - loss: 1.6031 - acc: 0.2346 - val_loss: 1.5929 - val_acc: 0.2781\n",
      "Epoch 3/30\n",
      "1424/1424 [==============================] - 2s 1ms/step - loss: 1.6006 - acc: 0.2247 - val_loss: 1.5905 - val_acc: 0.2781\n",
      "Epoch 4/30\n",
      "1424/1424 [==============================] - 2s 1ms/step - loss: 1.5977 - acc: 0.2353 - val_loss: 1.5913 - val_acc: 0.3287\n",
      "Epoch 5/30\n",
      "1424/1424 [==============================] - 2s 1ms/step - loss: 1.5954 - acc: 0.2732 - val_loss: 1.5905 - val_acc: 0.3174\n",
      "Epoch 6/30\n",
      "1424/1424 [==============================] - 2s 1ms/step - loss: 1.5922 - acc: 0.3420 - val_loss: 1.5878 - val_acc: 0.3427\n",
      "Epoch 7/30\n",
      "1424/1424 [==============================] - 2s 1ms/step - loss: 1.5874 - acc: 0.3567 - val_loss: 1.5772 - val_acc: 0.2809\n",
      "Epoch 8/30\n",
      "1424/1424 [==============================] - 2s 1ms/step - loss: 1.5743 - acc: 0.2690 - val_loss: 1.5221 - val_acc: 0.3455\n",
      "Epoch 9/30\n",
      "1424/1424 [==============================] - 2s 1ms/step - loss: 1.5478 - acc: 0.3104 - val_loss: 1.5277 - val_acc: 0.3287\n",
      "Epoch 10/30\n",
      "1424/1424 [==============================] - 2s 1ms/step - loss: 1.4704 - acc: 0.3722 - val_loss: 1.4394 - val_acc: 0.3848\n",
      "Epoch 11/30\n",
      "1424/1424 [==============================] - 2s 1ms/step - loss: 1.4048 - acc: 0.3834 - val_loss: 1.3554 - val_acc: 0.3989\n",
      "Epoch 12/30\n",
      "1424/1424 [==============================] - 2s 1ms/step - loss: 1.2874 - acc: 0.4733 - val_loss: 1.4391 - val_acc: 0.4354\n",
      "Epoch 13/30\n",
      "1424/1424 [==============================] - 2s 1ms/step - loss: 1.3562 - acc: 0.4494 - val_loss: 1.1336 - val_acc: 0.5084\n",
      "Epoch 14/30\n",
      "1424/1424 [==============================] - 2s 1ms/step - loss: 1.1454 - acc: 0.5225 - val_loss: 1.1087 - val_acc: 0.4691\n",
      "Epoch 15/30\n",
      "1424/1424 [==============================] - 2s 1ms/step - loss: 1.0831 - acc: 0.5372 - val_loss: 1.0893 - val_acc: 0.4831\n",
      "Epoch 16/30\n",
      "1424/1424 [==============================] - 2s 1ms/step - loss: 1.0581 - acc: 0.5730 - val_loss: 1.0306 - val_acc: 0.5337\n",
      "Epoch 17/30\n",
      "1424/1424 [==============================] - 2s 1ms/step - loss: 0.9946 - acc: 0.5758 - val_loss: 1.2684 - val_acc: 0.3876\n",
      "Epoch 18/30\n",
      "1424/1424 [==============================] - 2s 1ms/step - loss: 1.0029 - acc: 0.5829 - val_loss: 1.0125 - val_acc: 0.5702\n",
      "Epoch 19/30\n",
      "1424/1424 [==============================] - 2s 1ms/step - loss: 0.8796 - acc: 0.6250 - val_loss: 0.9527 - val_acc: 0.6152\n",
      "Epoch 20/30\n",
      "1424/1424 [==============================] - 3s 2ms/step - loss: 0.8638 - acc: 0.6650 - val_loss: 0.9851 - val_acc: 0.5393\n",
      "Epoch 21/30\n",
      "1424/1424 [==============================] - 3s 2ms/step - loss: 0.7612 - acc: 0.6664 - val_loss: 0.9330 - val_acc: 0.5393\n",
      "Epoch 22/30\n",
      "1424/1424 [==============================] - 3s 2ms/step - loss: 0.7842 - acc: 0.6728 - val_loss: 1.0468 - val_acc: 0.5478\n",
      "Epoch 23/30\n",
      "1424/1424 [==============================] - 3s 2ms/step - loss: 0.7763 - acc: 0.6945 - val_loss: 0.9192 - val_acc: 0.5730\n",
      "Epoch 24/30\n",
      "1424/1424 [==============================] - 2s 1ms/step - loss: 0.6385 - acc: 0.7612 - val_loss: 0.8875 - val_acc: 0.5787\n",
      "Epoch 25/30\n",
      "1424/1424 [==============================] - 2s 1ms/step - loss: 0.6306 - acc: 0.7409 - val_loss: 1.0038 - val_acc: 0.6236\n",
      "Epoch 26/30\n",
      "1424/1424 [==============================] - 2s 1ms/step - loss: 0.5910 - acc: 0.7935 - val_loss: 1.1838 - val_acc: 0.5590\n",
      "Epoch 27/30\n",
      "1424/1424 [==============================] - 2s 1ms/step - loss: 0.5925 - acc: 0.7879 - val_loss: 1.0033 - val_acc: 0.5674\n",
      "Epoch 28/30\n",
      "1424/1424 [==============================] - 2s 1ms/step - loss: 0.4950 - acc: 0.8427 - val_loss: 1.0667 - val_acc: 0.5309\n",
      "Epoch 29/30\n",
      "1424/1424 [==============================] - 2s 1ms/step - loss: 0.4925 - acc: 0.8160 - val_loss: 0.7090 - val_acc: 0.7135\n",
      "Epoch 30/30\n",
      "1424/1424 [==============================] - 2s 1ms/step - loss: 0.4035 - acc: 0.8603 - val_loss: 1.1078 - val_acc: 0.5758\n"
     ]
    }
   ],
   "source": [
    "model = Sequential()\n",
    "model.add(layers.Embedding(max_words, 32))\n",
    "model.add(layers.Bidirectional(layers.LSTM(32)))\n",
    "model.add(layers.Dense(5, activation='softmax'))\n",
    "\n",
    "model.compile(optimizer='adadelta', loss='categorical_crossentropy', metrics=['acc'])\n",
    "history = model.fit(X_train, y_train, \n",
    "                    epochs=30, \n",
    "                    batch_size=128, \n",
    "                    validation_split=0.2)"
   ]
  },
  {
   "cell_type": "code",
   "execution_count": 0,
   "metadata": {
    "colab": {
     "base_uri": "https://localhost:8080/",
     "height": 54
    },
    "colab_type": "code",
    "executionInfo": {
     "elapsed": 139778,
     "status": "ok",
     "timestamp": 1589251032121,
     "user": {
      "displayName": "Jino Kwon",
      "photoUrl": "https://lh3.googleusercontent.com/a-/AOh14GgV2Ncm3h1lWr3fmLm-2axiON25ZmFCeivTDWQB=s64",
      "userId": "03464591678848794865"
     },
     "user_tz": 240
    },
    "id": "pxaIPQVnvByz",
    "outputId": "448f0f63-daea-40f0-fe37-4b2e913916bf"
   },
   "outputs": [
    {
     "name": "stdout",
     "output_type": "stream",
     "text": [
      "445/445 [==============================] - 0s 485us/step\n"
     ]
    },
    {
     "data": {
      "text/plain": [
       "[1.1654932973090182, 0.5865168571472168]"
      ]
     },
     "execution_count": 33,
     "metadata": {
      "tags": []
     },
     "output_type": "execute_result"
    }
   ],
   "source": [
    "model.evaluate(X_test, y_test)"
   ]
  },
  {
   "cell_type": "markdown",
   "metadata": {
    "colab_type": "text",
    "id": "4drSugdWvbGS"
   },
   "source": [
    "## F. Now retrain my best model from C, D, and E using dropout (with increased epochs!)\n",
    "* Model E is my best model."
   ]
  },
  {
   "cell_type": "code",
   "execution_count": 0,
   "metadata": {
    "colab": {
     "base_uri": "https://localhost:8080/",
     "height": 1000
    },
    "colab_type": "code",
    "executionInfo": {
     "elapsed": 99763,
     "status": "ok",
     "timestamp": 1589251231327,
     "user": {
      "displayName": "Jino Kwon",
      "photoUrl": "https://lh3.googleusercontent.com/a-/AOh14GgV2Ncm3h1lWr3fmLm-2axiON25ZmFCeivTDWQB=s64",
      "userId": "03464591678848794865"
     },
     "user_tz": 240
    },
    "id": "YVgxZcy1vCHP",
    "outputId": "c13c8478-4d91-4388-ee16-a4c5bf799647"
   },
   "outputs": [
    {
     "name": "stderr",
     "output_type": "stream",
     "text": [
      "/usr/local/lib/python3.6/dist-packages/tensorflow/python/framework/indexed_slices.py:434: UserWarning: Converting sparse IndexedSlices to a dense Tensor of unknown shape. This may consume a large amount of memory.\n",
      "  \"Converting sparse IndexedSlices to a dense Tensor of unknown shape. \"\n"
     ]
    },
    {
     "name": "stdout",
     "output_type": "stream",
     "text": [
      "Train on 1424 samples, validate on 356 samples\n",
      "Epoch 1/50\n",
      "1424/1424 [==============================] - 3s 2ms/step - loss: 1.6075 - acc: 0.2289 - val_loss: 1.6018 - val_acc: 0.2360\n",
      "Epoch 2/50\n",
      "1424/1424 [==============================] - 2s 1ms/step - loss: 1.6028 - acc: 0.2331 - val_loss: 1.5970 - val_acc: 0.2893\n",
      "Epoch 3/50\n",
      "1424/1424 [==============================] - 2s 1ms/step - loss: 1.6002 - acc: 0.2633 - val_loss: 1.5933 - val_acc: 0.2837\n",
      "Epoch 4/50\n",
      "1424/1424 [==============================] - 2s 1ms/step - loss: 1.5978 - acc: 0.2760 - val_loss: 1.5950 - val_acc: 0.2247\n",
      "Epoch 5/50\n",
      "1424/1424 [==============================] - 2s 1ms/step - loss: 1.5954 - acc: 0.2662 - val_loss: 1.5921 - val_acc: 0.2388\n",
      "Epoch 6/50\n",
      "1424/1424 [==============================] - 2s 1ms/step - loss: 1.5910 - acc: 0.2690 - val_loss: 1.5884 - val_acc: 0.3090\n",
      "Epoch 7/50\n",
      "1424/1424 [==============================] - 2s 1ms/step - loss: 1.5874 - acc: 0.3223 - val_loss: 1.5853 - val_acc: 0.2781\n",
      "Epoch 8/50\n",
      "1424/1424 [==============================] - 2s 1ms/step - loss: 1.5712 - acc: 0.3420 - val_loss: 1.6232 - val_acc: 0.2135\n",
      "Epoch 9/50\n",
      "1424/1424 [==============================] - 2s 1ms/step - loss: 1.5452 - acc: 0.3518 - val_loss: 1.5389 - val_acc: 0.2809\n",
      "Epoch 10/50\n",
      "1424/1424 [==============================] - 2s 1ms/step - loss: 1.5054 - acc: 0.3560 - val_loss: 1.3562 - val_acc: 0.4466\n",
      "Epoch 11/50\n",
      "1424/1424 [==============================] - 2s 1ms/step - loss: 1.4400 - acc: 0.3968 - val_loss: 1.3937 - val_acc: 0.4326\n",
      "Epoch 12/50\n",
      "1424/1424 [==============================] - 2s 1ms/step - loss: 1.3834 - acc: 0.4298 - val_loss: 1.4662 - val_acc: 0.3287\n",
      "Epoch 13/50\n",
      "1424/1424 [==============================] - 2s 1ms/step - loss: 1.3649 - acc: 0.4494 - val_loss: 1.2185 - val_acc: 0.5056\n",
      "Epoch 14/50\n",
      "1424/1424 [==============================] - 2s 1ms/step - loss: 1.3258 - acc: 0.4558 - val_loss: 1.2319 - val_acc: 0.3989\n",
      "Epoch 15/50\n",
      "1424/1424 [==============================] - 2s 1ms/step - loss: 1.2181 - acc: 0.4860 - val_loss: 1.1004 - val_acc: 0.6011\n",
      "Epoch 16/50\n",
      "1424/1424 [==============================] - 2s 1ms/step - loss: 1.1103 - acc: 0.5695 - val_loss: 1.0345 - val_acc: 0.5674\n",
      "Epoch 17/50\n",
      "1424/1424 [==============================] - 2s 1ms/step - loss: 1.1066 - acc: 0.5442 - val_loss: 1.1221 - val_acc: 0.6180\n",
      "Epoch 18/50\n",
      "1424/1424 [==============================] - 2s 1ms/step - loss: 1.0280 - acc: 0.6110 - val_loss: 1.4520 - val_acc: 0.4691\n",
      "Epoch 19/50\n",
      "1424/1424 [==============================] - 2s 1ms/step - loss: 1.0292 - acc: 0.5843 - val_loss: 0.9183 - val_acc: 0.6433\n",
      "Epoch 20/50\n",
      "1424/1424 [==============================] - 2s 1ms/step - loss: 0.9293 - acc: 0.6538 - val_loss: 0.9474 - val_acc: 0.5730\n",
      "Epoch 21/50\n",
      "1424/1424 [==============================] - 2s 1ms/step - loss: 0.8609 - acc: 0.6875 - val_loss: 1.0421 - val_acc: 0.5225\n",
      "Epoch 22/50\n",
      "1424/1424 [==============================] - 2s 1ms/step - loss: 0.8696 - acc: 0.6594 - val_loss: 0.7885 - val_acc: 0.7022\n",
      "Epoch 23/50\n",
      "1424/1424 [==============================] - 2s 1ms/step - loss: 0.8462 - acc: 0.6805 - val_loss: 0.8732 - val_acc: 0.6966\n",
      "Epoch 24/50\n",
      "1424/1424 [==============================] - 2s 1ms/step - loss: 0.7395 - acc: 0.7465 - val_loss: 0.8356 - val_acc: 0.6124\n",
      "Epoch 25/50\n",
      "1424/1424 [==============================] - 2s 1ms/step - loss: 0.7037 - acc: 0.7549 - val_loss: 0.8890 - val_acc: 0.5506\n",
      "Epoch 26/50\n",
      "1424/1424 [==============================] - 2s 1ms/step - loss: 0.6752 - acc: 0.7718 - val_loss: 0.7466 - val_acc: 0.6826\n",
      "Epoch 27/50\n",
      "1424/1424 [==============================] - 2s 1ms/step - loss: 0.6095 - acc: 0.7816 - val_loss: 0.6422 - val_acc: 0.7612\n",
      "Epoch 28/50\n",
      "1424/1424 [==============================] - 2s 1ms/step - loss: 0.6043 - acc: 0.7921 - val_loss: 0.8003 - val_acc: 0.6264\n",
      "Epoch 29/50\n",
      "1424/1424 [==============================] - 2s 1ms/step - loss: 0.5615 - acc: 0.8258 - val_loss: 0.8865 - val_acc: 0.6742\n",
      "Epoch 30/50\n",
      "1424/1424 [==============================] - 2s 1ms/step - loss: 0.5606 - acc: 0.8188 - val_loss: 0.6338 - val_acc: 0.7275\n",
      "Epoch 31/50\n",
      "1424/1424 [==============================] - 2s 1ms/step - loss: 0.4586 - acc: 0.8532 - val_loss: 0.7456 - val_acc: 0.6545\n",
      "Epoch 32/50\n",
      "1424/1424 [==============================] - 2s 1ms/step - loss: 0.4578 - acc: 0.8483 - val_loss: 0.5964 - val_acc: 0.7697\n",
      "Epoch 33/50\n",
      "1424/1424 [==============================] - 2s 1ms/step - loss: 0.3744 - acc: 0.8820 - val_loss: 0.5176 - val_acc: 0.8034\n",
      "Epoch 34/50\n",
      "1424/1424 [==============================] - 2s 1ms/step - loss: 0.3328 - acc: 0.9031 - val_loss: 0.4623 - val_acc: 0.8287\n",
      "Epoch 35/50\n",
      "1424/1424 [==============================] - 2s 1ms/step - loss: 0.3300 - acc: 0.9059 - val_loss: 0.4899 - val_acc: 0.8343\n",
      "Epoch 36/50\n",
      "1424/1424 [==============================] - 2s 1ms/step - loss: 0.2624 - acc: 0.9291 - val_loss: 0.4151 - val_acc: 0.8624\n",
      "Epoch 37/50\n",
      "1424/1424 [==============================] - 2s 1ms/step - loss: 0.2488 - acc: 0.9382 - val_loss: 0.4771 - val_acc: 0.8315\n",
      "Epoch 38/50\n",
      "1424/1424 [==============================] - 2s 1ms/step - loss: 0.2324 - acc: 0.9354 - val_loss: 0.4887 - val_acc: 0.8230\n",
      "Epoch 39/50\n",
      "1424/1424 [==============================] - 2s 1ms/step - loss: 0.2034 - acc: 0.9480 - val_loss: 0.4056 - val_acc: 0.8820\n",
      "Epoch 40/50\n",
      "1424/1424 [==============================] - 2s 1ms/step - loss: 0.2086 - acc: 0.9466 - val_loss: 0.3904 - val_acc: 0.8764\n",
      "Epoch 41/50\n",
      "1424/1424 [==============================] - 2s 1ms/step - loss: 0.1751 - acc: 0.9642 - val_loss: 0.3978 - val_acc: 0.8708\n",
      "Epoch 42/50\n",
      "1424/1424 [==============================] - 2s 1ms/step - loss: 0.1511 - acc: 0.9593 - val_loss: 0.3867 - val_acc: 0.8652\n",
      "Epoch 43/50\n",
      "1424/1424 [==============================] - 2s 1ms/step - loss: 0.1598 - acc: 0.9656 - val_loss: 0.3828 - val_acc: 0.8848\n",
      "Epoch 44/50\n",
      "1424/1424 [==============================] - 2s 1ms/step - loss: 0.1204 - acc: 0.9754 - val_loss: 0.3755 - val_acc: 0.8848\n",
      "Epoch 45/50\n",
      "1424/1424 [==============================] - 2s 1ms/step - loss: 0.1155 - acc: 0.9712 - val_loss: 0.3764 - val_acc: 0.8792\n",
      "Epoch 46/50\n",
      "1424/1424 [==============================] - 2s 1ms/step - loss: 0.1269 - acc: 0.9712 - val_loss: 0.3291 - val_acc: 0.9185\n",
      "Epoch 47/50\n",
      "1424/1424 [==============================] - 2s 1ms/step - loss: 0.0899 - acc: 0.9817 - val_loss: 0.3377 - val_acc: 0.8961\n",
      "Epoch 48/50\n",
      "1424/1424 [==============================] - 2s 1ms/step - loss: 0.0956 - acc: 0.9768 - val_loss: 0.3854 - val_acc: 0.8764\n",
      "Epoch 49/50\n",
      "1424/1424 [==============================] - 2s 1ms/step - loss: 0.0900 - acc: 0.9817 - val_loss: 0.3540 - val_acc: 0.8904\n",
      "Epoch 50/50\n",
      "1424/1424 [==============================] - 2s 1ms/step - loss: 0.0779 - acc: 0.9860 - val_loss: 0.3700 - val_acc: 0.8876\n"
     ]
    }
   ],
   "source": [
    "model = Sequential()\n",
    "model.add(layers.Embedding(max_words, 32))\n",
    "# I'm adding dropout here.\n",
    "model.add(layers.Bidirectional(layers.LSTM(32, dropout=0.2, recurrent_dropout=0.2)))\n",
    "model.add(layers.Dense(5, activation='softmax'))\n",
    "\n",
    "model.compile(optimizer='adadelta', loss='categorical_crossentropy', metrics=['acc'])\n",
    "history = model.fit(X_train, y_train, \n",
    "                    epochs=50,  # increased epochs \n",
    "                    batch_size=128, \n",
    "                    validation_split=0.2)"
   ]
  },
  {
   "cell_type": "code",
   "execution_count": 0,
   "metadata": {
    "colab": {
     "base_uri": "https://localhost:8080/",
     "height": 54
    },
    "colab_type": "code",
    "executionInfo": {
     "elapsed": 92917,
     "status": "ok",
     "timestamp": 1589251231550,
     "user": {
      "displayName": "Jino Kwon",
      "photoUrl": "https://lh3.googleusercontent.com/a-/AOh14GgV2Ncm3h1lWr3fmLm-2axiON25ZmFCeivTDWQB=s64",
      "userId": "03464591678848794865"
     },
     "user_tz": 240
    },
    "id": "DBhftAXXv8gZ",
    "outputId": "e724110c-7916-474a-d199-da0caf7069ae"
   },
   "outputs": [
    {
     "name": "stdout",
     "output_type": "stream",
     "text": [
      "445/445 [==============================] - 0s 494us/step\n"
     ]
    },
    {
     "data": {
      "text/plain": [
       "[0.4265103011988522, 0.867415726184845]"
      ]
     },
     "execution_count": 35,
     "metadata": {
      "tags": []
     },
     "output_type": "execute_result"
    }
   ],
   "source": [
    "model.evaluate(X_test, y_test)"
   ]
  },
  {
   "cell_type": "markdown",
   "metadata": {
    "colab_type": "text",
    "id": "5d7sMkPTv_Ag"
   },
   "source": [
    "## Discussion\n",
    "#### 1) Which model(s) performed best?\n",
    "* Model F (A model using an Embedding layer with bidirectional sequential layers with large epochs) performed the best with the accuracy of 0.87. It is interesting that Model A (A model with an embedding layer and dense layers without layers meant for sequential data) showed the second highest accuracy score (0.78).\n",
    "\n",
    "#### 2) How may I try to further improve the predictive power of your model (e.g. Glove embeddings? More layers? Combining Conv1D with LSTM layers? More LSTM hidden nodes?)\n",
    "* The accuracy score of Model E (0.58) was initially lower than that of Model A (0.78), but it improved significantly with increased epochs (Model F). I speculate that I may get better scores with even larger epochs. However, the fact that the vanilla model (Model A) performed the second best tells me that more complicated models (with Glove embeddings, more layers, etc.) don't necessarily render better results and have a greater risk of overfitting."
   ]
  }
 ],
 "metadata": {
  "colab": {
   "collapsed_sections": [],
   "name": "ML_DL_Project_3_Classifying_BBC_News_Categories.ipynb",
   "provenance": []
  },
  "kernelspec": {
   "display_name": "Python 3",
   "language": "python",
   "name": "python3"
  },
  "language_info": {
   "codemirror_mode": {
    "name": "ipython",
    "version": 3
   },
   "file_extension": ".py",
   "mimetype": "text/x-python",
   "name": "python",
   "nbconvert_exporter": "python",
   "pygments_lexer": "ipython3",
   "version": "3.7.4"
  }
 },
 "nbformat": 4,
 "nbformat_minor": 1
}
