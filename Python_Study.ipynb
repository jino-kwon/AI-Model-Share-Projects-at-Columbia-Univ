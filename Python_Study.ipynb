{
  "nbformat": 4,
  "nbformat_minor": 0,
  "metadata": {
    "colab": {
      "name": "Python Study.ipynb",
      "provenance": [],
      "include_colab_link": true
    },
    "kernelspec": {
      "name": "python3",
      "display_name": "Python 3"
    }
  },
  "cells": [
    {
      "cell_type": "markdown",
      "metadata": {
        "id": "view-in-github",
        "colab_type": "text"
      },
      "source": [
        "<a href=\"https://colab.research.google.com/github/jinokwon/AI-Model-Share-Projects-at-Columbia-Univ/blob/master/Python_Study.ipynb\" target=\"_parent\"><img src=\"https://colab.research.google.com/assets/colab-badge.svg\" alt=\"Open In Colab\"/></a>"
      ]
    },
    {
      "cell_type": "markdown",
      "metadata": {
        "id": "8W78T07vTjSv",
        "colab_type": "text"
      },
      "source": [
        "### Data Type\n",
        "##### str = string, text\n",
        "##### float = real numbers\n",
        "##### int = integers\n",
        "##### bool = true / false\n",
        "---\n",
        "### List \n",
        "##### ==> can include all the above data types. also contain sub-lists\n",
        "##### ==> Index: [n] --> you can select 'n'th element\n",
        "##### ==> Slicing: [x:y] --> x is inclusive while y is NOT (exclusive)\n"
      ]
    },
    {
      "cell_type": "code",
      "metadata": {
        "id": "2e-SSnDfvpbH",
        "colab_type": "code",
        "colab": {
          "base_uri": "https://localhost:8080/",
          "height": 70
        },
        "outputId": "e542f352-07af-471c-e465-03565a228186"
      },
      "source": [
        "# Conditional Statements\n",
        "# Nested Decisions\n",
        "x=42\n",
        "if x > 1 :\n",
        "  print ('More than one')\n",
        "  if x < 100:\n",
        "    print ('Less than one')\n",
        "\n",
        "# Two-way Decisions with else\n",
        "x = 4\n",
        "if x > 2 :\n",
        "  print ('Bigger than 2')\n",
        "else:\n",
        "  print ('Smaller than 2')"
      ],
      "execution_count": null,
      "outputs": [
        {
          "output_type": "stream",
          "text": [
            "More than one\n",
            "Less than one\n",
            "Bigger than 2\n"
          ],
          "name": "stdout"
        }
      ]
    },
    {
      "cell_type": "code",
      "metadata": {
        "id": "aOEj9CXJcLI4",
        "colab_type": "code",
        "colab": {
          "base_uri": "https://localhost:8080/",
          "height": 70
        },
        "outputId": "96aa4b56-1d2d-4985-9d7e-45bd09420b11"
      },
      "source": [
        "# write a program that calculates your payments\n",
        "xh = input(\"Enter Hours: \")\n",
        "xr = input(\"Enter Rate: \")\n",
        "xp = float(xh) * float(xr)\n",
        "print (\"Pay \", xp)\n",
        "# if you run this cell, the program will ask you hours and rate"
      ],
      "execution_count": null,
      "outputs": [
        {
          "output_type": "stream",
          "text": [
            "Enter Hours: 35\n",
            "Enter Rate: 2.75\n",
            "Pay  96.25\n"
          ],
          "name": "stdout"
        }
      ]
    },
    {
      "cell_type": "code",
      "metadata": {
        "id": "xDTq9qg2bOuO",
        "colab_type": "code",
        "colab": {
          "base_uri": "https://localhost:8080/",
          "height": 72
        },
        "outputId": "9ebcf960-0093-4b36-e1b9-8c58cd2c1812"
      },
      "source": [
        "toppings = ['pepperoni', 'pineapple', 'cheese', 'sausage', 'olives', 'anchovies', 'mushrooms']\n",
        "prices = [2, 6, 1, 3, 2, 7, 2]\n",
        "\n",
        "# the length of a list\n",
        "num_pizzas = len(toppings)\n",
        "\n",
        "print ('We sell ' + str(num_pizzas) + ' different kinds of pizza!')\n",
        "\n",
        "# Use zip to combine the two lists into a list called pizzas that has the structure\n",
        "pizzas = list(zip(prices, toppings))\n",
        "print(pizzas)\n",
        "\n",
        "# You can sort a list from low to high by using .sort()\n",
        "pizzas.sort()\n",
        "\n",
        "cheapest_pizza = pizzas[0]\n",
        "priciest_pizza = pizzas[-1]\n",
        "three_cheapest = pizzas[:3]\n",
        "print (three_cheapest)\n",
        "\n",
        "# You can use .count to find the number of occurrences of a value in a list:\n",
        "num_two_dollar_slices = prices.count(2)\n",
        "\n",
        "\n",
        "# The function should add the last two elements of lst together and append the result to lst.\n",
        "# It should do this process three times and then return lst.\n",
        "def append_sum(lst):\n",
        "  i = 0\n",
        "  while i < 3:\n",
        "    lst.append(lst[-1] + lst[-2])\n",
        "    i += 1\n",
        "  return lst \n",
        "\n",
        "#Uncomment the line below when your function is done\n",
        "print(append_sum([1, 1, 2]))"
      ],
      "execution_count": null,
      "outputs": [
        {
          "output_type": "stream",
          "text": [
            "We sell 7 different kinds of pizza!\n",
            "[(2, 'pepperoni'), (6, 'pineapple'), (1, 'cheese'), (3, 'sausage'), (2, 'olives'), (7, 'anchovies'), (2, 'mushrooms')]\n",
            "[(1, 'cheese'), (2, 'mushrooms'), (2, 'olives')]\n"
          ],
          "name": "stdout"
        }
      ]
    }
  ]
}